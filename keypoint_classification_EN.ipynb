{
 "cells": [
  {
   "cell_type": "code",
   "execution_count": 1,
   "metadata": {
    "id": "igMyGnjE9hEp"
   },
   "outputs": [],
   "source": [
    "import csv\n",
    "\n",
    "import numpy as np\n",
    "import tensorflow as tf\n",
    "from sklearn.model_selection import train_test_split\n",
    "\n",
    "RANDOM_SEED = 42"
   ]
  },
  {
   "cell_type": "markdown",
   "metadata": {
    "id": "t2HDvhIu9hEr"
   },
   "source": [
    "# Specify each path"
   ]
  },
  {
   "cell_type": "code",
   "execution_count": 2,
   "metadata": {
    "id": "9NvZP2Zn9hEy"
   },
   "outputs": [],
   "source": [
    "dataset = 'model/keypoint_classifier/keypoint.csv'\n",
    "model_save_path = 'model/keypoint_classifier/keypoint_classifier.hdf5'\n",
    "tflite_save_path = 'model/keypoint_classifier/keypoint_classifier.tflite'"
   ]
  },
  {
   "cell_type": "markdown",
   "metadata": {
    "id": "s5oMH7x19hEz"
   },
   "source": [
    "# Set number of classes"
   ]
  },
  {
   "cell_type": "code",
   "execution_count": 3,
   "metadata": {
    "id": "du4kodXL9hEz"
   },
   "outputs": [],
   "source": [
    "NUM_CLASSES = 6"
   ]
  },
  {
   "cell_type": "markdown",
   "metadata": {
    "id": "XjnL0uso9hEz"
   },
   "source": [
    "# Dataset reading"
   ]
  },
  {
   "cell_type": "code",
   "execution_count": 4,
   "metadata": {
    "id": "QT5ZqtEz9hE0"
   },
   "outputs": [],
   "source": [
    "X_dataset = np.loadtxt(dataset, delimiter=',', dtype='float32', usecols=list(range(1, (21 * 2) + 1)))"
   ]
  },
  {
   "cell_type": "code",
   "execution_count": 5,
   "metadata": {
    "id": "QmoKFsp49hE0"
   },
   "outputs": [],
   "source": [
    "y_dataset = np.loadtxt(dataset, delimiter=',', dtype='int32', usecols=(0))"
   ]
  },
  {
   "cell_type": "code",
   "execution_count": 6,
   "metadata": {
    "id": "xQU7JTZ_9hE0"
   },
   "outputs": [],
   "source": [
    "X_train, X_test, y_train, y_test = train_test_split(X_dataset, y_dataset, train_size=0.75, random_state=RANDOM_SEED)"
   ]
  },
  {
   "cell_type": "markdown",
   "metadata": {
    "id": "mxK_lETT9hE0"
   },
   "source": [
    "# Model building"
   ]
  },
  {
   "cell_type": "code",
   "execution_count": 7,
   "metadata": {
    "id": "vHBmUf1t9hE1"
   },
   "outputs": [],
   "source": [
    "model = tf.keras.models.Sequential([\n",
    "    tf.keras.layers.Input((21 * 2, )),\n",
    "    tf.keras.layers.Dropout(0.2),\n",
    "    tf.keras.layers.Dense(20, activation='relu'),\n",
    "    tf.keras.layers.Dropout(0.4),\n",
    "    tf.keras.layers.Dense(10, activation='relu'),\n",
    "    tf.keras.layers.Dense(NUM_CLASSES, activation='softmax')\n",
    "])"
   ]
  },
  {
   "cell_type": "code",
   "execution_count": 8,
   "metadata": {
    "colab": {
     "base_uri": "https://localhost:8080/"
    },
    "id": "ypqky9tc9hE1",
    "outputId": "5db082bb-30e3-4110-bf63-a1ee777ecd46"
   },
   "outputs": [
    {
     "name": "stdout",
     "output_type": "stream",
     "text": [
      "Model: \"sequential\"\n",
      "_________________________________________________________________\n",
      "Layer (type)                 Output Shape              Param #   \n",
      "=================================================================\n",
      "dropout (Dropout)            (None, 42)                0         \n",
      "_________________________________________________________________\n",
      "dense (Dense)                (None, 20)                860       \n",
      "_________________________________________________________________\n",
      "dropout_1 (Dropout)          (None, 20)                0         \n",
      "_________________________________________________________________\n",
      "dense_1 (Dense)              (None, 10)                210       \n",
      "_________________________________________________________________\n",
      "dense_2 (Dense)              (None, 6)                 66        \n",
      "=================================================================\n",
      "Total params: 1,136\n",
      "Trainable params: 1,136\n",
      "Non-trainable params: 0\n",
      "_________________________________________________________________\n"
     ]
    }
   ],
   "source": [
    "model.summary()  # tf.keras.utils.plot_model(model, show_shapes=True)"
   ]
  },
  {
   "cell_type": "code",
   "execution_count": 9,
   "metadata": {
    "id": "MbMjOflQ9hE1"
   },
   "outputs": [],
   "source": [
    "# Model checkpoint callback\n",
    "cp_callback = tf.keras.callbacks.ModelCheckpoint(\n",
    "    model_save_path, verbose=1, save_weights_only=False)\n",
    "# Callback for early stopping\n",
    "es_callback = tf.keras.callbacks.EarlyStopping(patience=20, verbose=1)"
   ]
  },
  {
   "cell_type": "code",
   "execution_count": 10,
   "metadata": {
    "id": "c3Dac0M_9hE2"
   },
   "outputs": [],
   "source": [
    "# Model compilation\n",
    "model.compile(\n",
    "    optimizer='adam',\n",
    "    loss='sparse_categorical_crossentropy',\n",
    "    metrics=['accuracy']\n",
    ")"
   ]
  },
  {
   "cell_type": "markdown",
   "metadata": {
    "id": "7XI0j1Iu9hE2"
   },
   "source": [
    "# Model training"
   ]
  },
  {
   "cell_type": "code",
   "execution_count": 11,
   "metadata": {
    "colab": {
     "base_uri": "https://localhost:8080/"
    },
    "id": "WirBl-JE9hE3",
    "outputId": "71b30ca2-8294-4d9d-8aa2-800d90d399de",
    "scrolled": true
   },
   "outputs": [
    {
     "name": "stdout",
     "output_type": "stream",
     "text": [
      "Epoch 1/1000\n",
      "35/35 [==============================] - 2s 7ms/step - loss: 1.9238 - accuracy: 0.1178 - val_loss: 1.7561 - val_accuracy: 0.2829\n",
      "\n",
      "Epoch 00001: saving model to model/keypoint_classifier\\keypoint_classifier.hdf5\n",
      "Epoch 2/1000\n",
      "35/35 [==============================] - 0s 4ms/step - loss: 1.7574 - accuracy: 0.2256 - val_loss: 1.6920 - val_accuracy: 0.2965\n",
      "\n",
      "Epoch 00002: saving model to model/keypoint_classifier\\keypoint_classifier.hdf5\n",
      "Epoch 3/1000\n",
      "35/35 [==============================] - 0s 4ms/step - loss: 1.6833 - accuracy: 0.2817 - val_loss: 1.6156 - val_accuracy: 0.3436\n",
      "\n",
      "Epoch 00003: saving model to model/keypoint_classifier\\keypoint_classifier.hdf5\n",
      "Epoch 4/1000\n",
      "35/35 [==============================] - 0s 3ms/step - loss: 1.6221 - accuracy: 0.3292 - val_loss: 1.5600 - val_accuracy: 0.3551\n",
      "\n",
      "Epoch 00004: saving model to model/keypoint_classifier\\keypoint_classifier.hdf5\n",
      "Epoch 5/1000\n",
      "35/35 [==============================] - 0s 3ms/step - loss: 1.5786 - accuracy: 0.3529 - val_loss: 1.4956 - val_accuracy: 0.3981\n",
      "\n",
      "Epoch 00005: saving model to model/keypoint_classifier\\keypoint_classifier.hdf5\n",
      "Epoch 6/1000\n",
      "35/35 [==============================] - 0s 3ms/step - loss: 1.5208 - accuracy: 0.3868 - val_loss: 1.4187 - val_accuracy: 0.4206\n",
      "\n",
      "Epoch 00006: saving model to model/keypoint_classifier\\keypoint_classifier.hdf5\n",
      "Epoch 7/1000\n",
      "35/35 [==============================] - 0s 3ms/step - loss: 1.4717 - accuracy: 0.4029 - val_loss: 1.3479 - val_accuracy: 0.5222\n",
      "\n",
      "Epoch 00007: saving model to model/keypoint_classifier\\keypoint_classifier.hdf5\n",
      "Epoch 8/1000\n",
      "35/35 [==============================] - 0s 3ms/step - loss: 1.4246 - accuracy: 0.4311 - val_loss: 1.2820 - val_accuracy: 0.5535\n",
      "\n",
      "Epoch 00008: saving model to model/keypoint_classifier\\keypoint_classifier.hdf5\n",
      "Epoch 9/1000\n",
      "35/35 [==============================] - 0s 3ms/step - loss: 1.3672 - accuracy: 0.4518 - val_loss: 1.2153 - val_accuracy: 0.5862\n",
      "\n",
      "Epoch 00009: saving model to model/keypoint_classifier\\keypoint_classifier.hdf5\n",
      "Epoch 10/1000\n",
      "35/35 [==============================] - 0s 3ms/step - loss: 1.3364 - accuracy: 0.4720 - val_loss: 1.1606 - val_accuracy: 0.6101\n",
      "\n",
      "Epoch 00010: saving model to model/keypoint_classifier\\keypoint_classifier.hdf5\n",
      "Epoch 11/1000\n",
      "35/35 [==============================] - 0s 3ms/step - loss: 1.3031 - accuracy: 0.4848 - val_loss: 1.1113 - val_accuracy: 0.6353\n",
      "\n",
      "Epoch 00011: saving model to model/keypoint_classifier\\keypoint_classifier.hdf5\n",
      "Epoch 12/1000\n",
      "35/35 [==============================] - 0s 3ms/step - loss: 1.2767 - accuracy: 0.4934 - val_loss: 1.0714 - val_accuracy: 0.6619\n",
      "\n",
      "Epoch 00012: saving model to model/keypoint_classifier\\keypoint_classifier.hdf5\n",
      "Epoch 13/1000\n",
      "35/35 [==============================] - 0s 3ms/step - loss: 1.2505 - accuracy: 0.5002 - val_loss: 1.0273 - val_accuracy: 0.6987\n",
      "\n",
      "Epoch 00013: saving model to model/keypoint_classifier\\keypoint_classifier.hdf5\n",
      "Epoch 14/1000\n",
      "35/35 [==============================] - 0s 3ms/step - loss: 1.2321 - accuracy: 0.5136 - val_loss: 0.9884 - val_accuracy: 0.7226\n",
      "\n",
      "Epoch 00014: saving model to model/keypoint_classifier\\keypoint_classifier.hdf5\n",
      "Epoch 15/1000\n",
      "35/35 [==============================] - 0s 3ms/step - loss: 1.2044 - accuracy: 0.5323 - val_loss: 0.9594 - val_accuracy: 0.7382\n",
      "\n",
      "Epoch 00015: saving model to model/keypoint_classifier\\keypoint_classifier.hdf5\n",
      "Epoch 16/1000\n",
      "35/35 [==============================] - 0s 3ms/step - loss: 1.1928 - accuracy: 0.5239 - val_loss: 0.9221 - val_accuracy: 0.7451\n",
      "\n",
      "Epoch 00016: saving model to model/keypoint_classifier\\keypoint_classifier.hdf5\n",
      "Epoch 17/1000\n",
      "35/35 [==============================] - 0s 3ms/step - loss: 1.1562 - accuracy: 0.5432 - val_loss: 0.8845 - val_accuracy: 0.7560\n",
      "\n",
      "Epoch 00017: saving model to model/keypoint_classifier\\keypoint_classifier.hdf5\n",
      "Epoch 18/1000\n",
      "35/35 [==============================] - 0s 3ms/step - loss: 1.1392 - accuracy: 0.5643 - val_loss: 0.8542 - val_accuracy: 0.7628\n",
      "\n",
      "Epoch 00018: saving model to model/keypoint_classifier\\keypoint_classifier.hdf5\n",
      "Epoch 19/1000\n",
      "35/35 [==============================] - 0s 3ms/step - loss: 1.1346 - accuracy: 0.5505 - val_loss: 0.8307 - val_accuracy: 0.7682\n",
      "\n",
      "Epoch 00019: saving model to model/keypoint_classifier\\keypoint_classifier.hdf5\n",
      "Epoch 20/1000\n",
      "35/35 [==============================] - 0s 3ms/step - loss: 1.1052 - accuracy: 0.5614 - val_loss: 0.8175 - val_accuracy: 0.7941\n",
      "\n",
      "Epoch 00020: saving model to model/keypoint_classifier\\keypoint_classifier.hdf5\n",
      "Epoch 21/1000\n",
      "35/35 [==============================] - 0s 3ms/step - loss: 1.1044 - accuracy: 0.5639 - val_loss: 0.7795 - val_accuracy: 0.8269\n",
      "\n",
      "Epoch 00021: saving model to model/keypoint_classifier\\keypoint_classifier.hdf5\n",
      "Epoch 22/1000\n",
      "35/35 [==============================] - 0s 3ms/step - loss: 1.0713 - accuracy: 0.5812 - val_loss: 0.7551 - val_accuracy: 0.8303\n",
      "\n",
      "Epoch 00022: saving model to model/keypoint_classifier\\keypoint_classifier.hdf5\n",
      "Epoch 23/1000\n",
      "35/35 [==============================] - 0s 3ms/step - loss: 1.0523 - accuracy: 0.5894 - val_loss: 0.7455 - val_accuracy: 0.8296\n",
      "\n",
      "Epoch 00023: saving model to model/keypoint_classifier\\keypoint_classifier.hdf5\n",
      "Epoch 24/1000\n",
      "35/35 [==============================] - 0s 3ms/step - loss: 1.0648 - accuracy: 0.5880 - val_loss: 0.7342 - val_accuracy: 0.8384\n",
      "\n",
      "Epoch 00024: saving model to model/keypoint_classifier\\keypoint_classifier.hdf5\n",
      "Epoch 25/1000\n",
      "35/35 [==============================] - 0s 3ms/step - loss: 1.0226 - accuracy: 0.6046 - val_loss: 0.7099 - val_accuracy: 0.8412\n",
      "\n",
      "Epoch 00025: saving model to model/keypoint_classifier\\keypoint_classifier.hdf5\n",
      "Epoch 26/1000\n",
      "35/35 [==============================] - 0s 3ms/step - loss: 1.0302 - accuracy: 0.6000 - val_loss: 0.7069 - val_accuracy: 0.8398\n",
      "\n",
      "Epoch 00026: saving model to model/keypoint_classifier\\keypoint_classifier.hdf5\n",
      "Epoch 27/1000\n",
      "35/35 [==============================] - 0s 3ms/step - loss: 1.0222 - accuracy: 0.6053 - val_loss: 0.6883 - val_accuracy: 0.8534\n",
      "\n",
      "Epoch 00027: saving model to model/keypoint_classifier\\keypoint_classifier.hdf5\n",
      "Epoch 28/1000\n",
      "35/35 [==============================] - 0s 3ms/step - loss: 1.0185 - accuracy: 0.6073 - val_loss: 0.6794 - val_accuracy: 0.8534\n",
      "\n",
      "Epoch 00028: saving model to model/keypoint_classifier\\keypoint_classifier.hdf5\n",
      "Epoch 29/1000\n",
      "35/35 [==============================] - 0s 3ms/step - loss: 1.0061 - accuracy: 0.6176 - val_loss: 0.6586 - val_accuracy: 0.8603\n",
      "\n",
      "Epoch 00029: saving model to model/keypoint_classifier\\keypoint_classifier.hdf5\n",
      "Epoch 30/1000\n",
      "35/35 [==============================] - 0s 3ms/step - loss: 0.9828 - accuracy: 0.6298 - val_loss: 0.6494 - val_accuracy: 0.8555\n",
      "\n",
      "Epoch 00030: saving model to model/keypoint_classifier\\keypoint_classifier.hdf5\n",
      "Epoch 31/1000\n",
      "35/35 [==============================] - 0s 3ms/step - loss: 0.9896 - accuracy: 0.6262 - val_loss: 0.6419 - val_accuracy: 0.8582\n",
      "\n",
      "Epoch 00031: saving model to model/keypoint_classifier\\keypoint_classifier.hdf5\n",
      "Epoch 32/1000\n",
      "35/35 [==============================] - 0s 3ms/step - loss: 0.9838 - accuracy: 0.6146 - val_loss: 0.6306 - val_accuracy: 0.8671\n",
      "\n",
      "Epoch 00032: saving model to model/keypoint_classifier\\keypoint_classifier.hdf5\n",
      "Epoch 33/1000\n",
      "35/35 [==============================] - 0s 3ms/step - loss: 0.9757 - accuracy: 0.6276 - val_loss: 0.6365 - val_accuracy: 0.8596\n",
      "\n",
      "Epoch 00033: saving model to model/keypoint_classifier\\keypoint_classifier.hdf5\n",
      "Epoch 34/1000\n",
      "35/35 [==============================] - 0s 3ms/step - loss: 0.9785 - accuracy: 0.6323 - val_loss: 0.6208 - val_accuracy: 0.8705\n",
      "\n",
      "Epoch 00034: saving model to model/keypoint_classifier\\keypoint_classifier.hdf5\n",
      "Epoch 35/1000\n",
      "35/35 [==============================] - 0s 3ms/step - loss: 0.9694 - accuracy: 0.6244 - val_loss: 0.6158 - val_accuracy: 0.8691\n",
      "\n",
      "Epoch 00035: saving model to model/keypoint_classifier\\keypoint_classifier.hdf5\n",
      "Epoch 36/1000\n",
      "35/35 [==============================] - 0s 3ms/step - loss: 0.9495 - accuracy: 0.6307 - val_loss: 0.6127 - val_accuracy: 0.8630\n",
      "\n",
      "Epoch 00036: saving model to model/keypoint_classifier\\keypoint_classifier.hdf5\n",
      "Epoch 37/1000\n",
      "35/35 [==============================] - 0s 3ms/step - loss: 0.9505 - accuracy: 0.6371 - val_loss: 0.6000 - val_accuracy: 0.8664\n"
     ]
    },
    {
     "name": "stdout",
     "output_type": "stream",
     "text": [
      "\n",
      "Epoch 00037: saving model to model/keypoint_classifier\\keypoint_classifier.hdf5\n",
      "Epoch 38/1000\n",
      "35/35 [==============================] - 0s 3ms/step - loss: 0.9589 - accuracy: 0.6319 - val_loss: 0.5980 - val_accuracy: 0.8678\n",
      "\n",
      "Epoch 00038: saving model to model/keypoint_classifier\\keypoint_classifier.hdf5\n",
      "Epoch 39/1000\n",
      "35/35 [==============================] - 0s 3ms/step - loss: 0.9500 - accuracy: 0.6367 - val_loss: 0.5819 - val_accuracy: 0.8773\n",
      "\n",
      "Epoch 00039: saving model to model/keypoint_classifier\\keypoint_classifier.hdf5\n",
      "Epoch 40/1000\n",
      "35/35 [==============================] - 0s 3ms/step - loss: 0.9402 - accuracy: 0.6410 - val_loss: 0.5784 - val_accuracy: 0.8828\n",
      "\n",
      "Epoch 00040: saving model to model/keypoint_classifier\\keypoint_classifier.hdf5\n",
      "Epoch 41/1000\n",
      "35/35 [==============================] - 0s 3ms/step - loss: 0.9299 - accuracy: 0.6398 - val_loss: 0.5768 - val_accuracy: 0.8732\n",
      "\n",
      "Epoch 00041: saving model to model/keypoint_classifier\\keypoint_classifier.hdf5\n",
      "Epoch 42/1000\n",
      "35/35 [==============================] - 0s 3ms/step - loss: 0.9290 - accuracy: 0.6401 - val_loss: 0.5705 - val_accuracy: 0.8753\n",
      "\n",
      "Epoch 00042: saving model to model/keypoint_classifier\\keypoint_classifier.hdf5\n",
      "Epoch 43/1000\n",
      "35/35 [==============================] - 0s 4ms/step - loss: 0.9335 - accuracy: 0.6439 - val_loss: 0.5756 - val_accuracy: 0.8739\n",
      "\n",
      "Epoch 00043: saving model to model/keypoint_classifier\\keypoint_classifier.hdf5\n",
      "Epoch 44/1000\n",
      "35/35 [==============================] - 0s 3ms/step - loss: 0.9225 - accuracy: 0.6605 - val_loss: 0.5623 - val_accuracy: 0.8780\n",
      "\n",
      "Epoch 00044: saving model to model/keypoint_classifier\\keypoint_classifier.hdf5\n",
      "Epoch 45/1000\n",
      "35/35 [==============================] - 0s 3ms/step - loss: 0.9177 - accuracy: 0.6569 - val_loss: 0.5491 - val_accuracy: 0.8814\n",
      "\n",
      "Epoch 00045: saving model to model/keypoint_classifier\\keypoint_classifier.hdf5\n",
      "Epoch 46/1000\n",
      "35/35 [==============================] - 0s 3ms/step - loss: 0.9057 - accuracy: 0.6587 - val_loss: 0.5464 - val_accuracy: 0.8814\n",
      "\n",
      "Epoch 00046: saving model to model/keypoint_classifier\\keypoint_classifier.hdf5\n",
      "Epoch 47/1000\n",
      "35/35 [==============================] - 0s 3ms/step - loss: 0.9177 - accuracy: 0.6460 - val_loss: 0.5562 - val_accuracy: 0.8753\n",
      "\n",
      "Epoch 00047: saving model to model/keypoint_classifier\\keypoint_classifier.hdf5\n",
      "Epoch 48/1000\n",
      "35/35 [==============================] - 0s 3ms/step - loss: 0.8984 - accuracy: 0.6605 - val_loss: 0.5392 - val_accuracy: 0.8807\n",
      "\n",
      "Epoch 00048: saving model to model/keypoint_classifier\\keypoint_classifier.hdf5\n",
      "Epoch 49/1000\n",
      "35/35 [==============================] - 0s 3ms/step - loss: 0.8934 - accuracy: 0.6562 - val_loss: 0.5398 - val_accuracy: 0.8807\n",
      "\n",
      "Epoch 00049: saving model to model/keypoint_classifier\\keypoint_classifier.hdf5\n",
      "Epoch 50/1000\n",
      "35/35 [==============================] - 0s 3ms/step - loss: 0.8979 - accuracy: 0.6492 - val_loss: 0.5355 - val_accuracy: 0.8875\n",
      "\n",
      "Epoch 00050: saving model to model/keypoint_classifier\\keypoint_classifier.hdf5\n",
      "Epoch 51/1000\n",
      "35/35 [==============================] - 0s 3ms/step - loss: 0.9225 - accuracy: 0.6503 - val_loss: 0.5449 - val_accuracy: 0.8787\n",
      "\n",
      "Epoch 00051: saving model to model/keypoint_classifier\\keypoint_classifier.hdf5\n",
      "Epoch 52/1000\n",
      "35/35 [==============================] - 0s 4ms/step - loss: 0.8999 - accuracy: 0.6592 - val_loss: 0.5380 - val_accuracy: 0.8828\n",
      "\n",
      "Epoch 00052: saving model to model/keypoint_classifier\\keypoint_classifier.hdf5\n",
      "Epoch 53/1000\n",
      "35/35 [==============================] - 0s 4ms/step - loss: 0.8660 - accuracy: 0.6667 - val_loss: 0.5256 - val_accuracy: 0.8855\n",
      "\n",
      "Epoch 00053: saving model to model/keypoint_classifier\\keypoint_classifier.hdf5\n",
      "Epoch 54/1000\n",
      "35/35 [==============================] - 0s 3ms/step - loss: 0.8633 - accuracy: 0.6626 - val_loss: 0.5220 - val_accuracy: 0.8862\n",
      "\n",
      "Epoch 00054: saving model to model/keypoint_classifier\\keypoint_classifier.hdf5\n",
      "Epoch 55/1000\n",
      "35/35 [==============================] - 0s 3ms/step - loss: 0.8827 - accuracy: 0.6560 - val_loss: 0.5093 - val_accuracy: 0.8896\n",
      "\n",
      "Epoch 00055: saving model to model/keypoint_classifier\\keypoint_classifier.hdf5\n",
      "Epoch 56/1000\n",
      "35/35 [==============================] - 0s 3ms/step - loss: 0.8787 - accuracy: 0.6721 - val_loss: 0.5155 - val_accuracy: 0.8841\n",
      "\n",
      "Epoch 00056: saving model to model/keypoint_classifier\\keypoint_classifier.hdf5\n",
      "Epoch 57/1000\n",
      "35/35 [==============================] - 0s 3ms/step - loss: 0.8689 - accuracy: 0.6721 - val_loss: 0.5170 - val_accuracy: 0.8875\n",
      "\n",
      "Epoch 00057: saving model to model/keypoint_classifier\\keypoint_classifier.hdf5\n",
      "Epoch 58/1000\n",
      "35/35 [==============================] - 0s 3ms/step - loss: 0.8830 - accuracy: 0.6689 - val_loss: 0.5142 - val_accuracy: 0.8862\n",
      "\n",
      "Epoch 00058: saving model to model/keypoint_classifier\\keypoint_classifier.hdf5\n",
      "Epoch 59/1000\n",
      "35/35 [==============================] - 0s 3ms/step - loss: 0.8699 - accuracy: 0.6562 - val_loss: 0.5177 - val_accuracy: 0.8855\n",
      "\n",
      "Epoch 00059: saving model to model/keypoint_classifier\\keypoint_classifier.hdf5\n",
      "Epoch 60/1000\n",
      "35/35 [==============================] - 0s 3ms/step - loss: 0.8644 - accuracy: 0.6739 - val_loss: 0.5043 - val_accuracy: 0.8862\n",
      "\n",
      "Epoch 00060: saving model to model/keypoint_classifier\\keypoint_classifier.hdf5\n",
      "Epoch 61/1000\n",
      "35/35 [==============================] - 0s 5ms/step - loss: 0.8872 - accuracy: 0.6680 - val_loss: 0.5040 - val_accuracy: 0.8896\n",
      "\n",
      "Epoch 00061: saving model to model/keypoint_classifier\\keypoint_classifier.hdf5\n",
      "Epoch 62/1000\n",
      "35/35 [==============================] - 0s 3ms/step - loss: 0.8694 - accuracy: 0.6687 - val_loss: 0.5076 - val_accuracy: 0.8875\n",
      "\n",
      "Epoch 00062: saving model to model/keypoint_classifier\\keypoint_classifier.hdf5\n",
      "Epoch 63/1000\n",
      "35/35 [==============================] - 0s 5ms/step - loss: 0.8630 - accuracy: 0.6760 - val_loss: 0.5005 - val_accuracy: 0.8916\n",
      "\n",
      "Epoch 00063: saving model to model/keypoint_classifier\\keypoint_classifier.hdf5\n",
      "Epoch 64/1000\n",
      "35/35 [==============================] - 0s 4ms/step - loss: 0.8598 - accuracy: 0.6767 - val_loss: 0.4964 - val_accuracy: 0.8916\n",
      "\n",
      "Epoch 00064: saving model to model/keypoint_classifier\\keypoint_classifier.hdf5\n",
      "Epoch 65/1000\n",
      "35/35 [==============================] - 0s 4ms/step - loss: 0.8703 - accuracy: 0.6735 - val_loss: 0.5012 - val_accuracy: 0.8868\n",
      "\n",
      "Epoch 00065: saving model to model/keypoint_classifier\\keypoint_classifier.hdf5\n",
      "Epoch 66/1000\n",
      "35/35 [==============================] - 0s 4ms/step - loss: 0.8401 - accuracy: 0.6887 - val_loss: 0.4875 - val_accuracy: 0.8923\n",
      "\n",
      "Epoch 00066: saving model to model/keypoint_classifier\\keypoint_classifier.hdf5\n",
      "Epoch 67/1000\n",
      "35/35 [==============================] - 0s 4ms/step - loss: 0.8623 - accuracy: 0.6726 - val_loss: 0.5054 - val_accuracy: 0.8862\n",
      "\n",
      "Epoch 00067: saving model to model/keypoint_classifier\\keypoint_classifier.hdf5\n",
      "Epoch 68/1000\n",
      "35/35 [==============================] - 0s 4ms/step - loss: 0.8534 - accuracy: 0.6739 - val_loss: 0.4927 - val_accuracy: 0.8875\n",
      "\n",
      "Epoch 00068: saving model to model/keypoint_classifier\\keypoint_classifier.hdf5\n",
      "Epoch 69/1000\n",
      "35/35 [==============================] - 0s 4ms/step - loss: 0.8631 - accuracy: 0.6598 - val_loss: 0.4818 - val_accuracy: 0.8930\n",
      "\n",
      "Epoch 00069: saving model to model/keypoint_classifier\\keypoint_classifier.hdf5\n",
      "Epoch 70/1000\n",
      "35/35 [==============================] - 0s 4ms/step - loss: 0.8485 - accuracy: 0.6812 - val_loss: 0.4837 - val_accuracy: 0.8923\n",
      "\n",
      "Epoch 00070: saving model to model/keypoint_classifier\\keypoint_classifier.hdf5\n",
      "Epoch 71/1000\n",
      "35/35 [==============================] - 0s 4ms/step - loss: 0.8497 - accuracy: 0.6796 - val_loss: 0.4791 - val_accuracy: 0.8964\n",
      "\n",
      "Epoch 00071: saving model to model/keypoint_classifier\\keypoint_classifier.hdf5\n",
      "Epoch 72/1000\n",
      "35/35 [==============================] - 0s 4ms/step - loss: 0.8316 - accuracy: 0.6864 - val_loss: 0.4749 - val_accuracy: 0.8882\n",
      "\n",
      "Epoch 00072: saving model to model/keypoint_classifier\\keypoint_classifier.hdf5\n",
      "Epoch 73/1000\n",
      "35/35 [==============================] - 0s 4ms/step - loss: 0.8452 - accuracy: 0.6874 - val_loss: 0.4730 - val_accuracy: 0.8964\n",
      "\n",
      "Epoch 00073: saving model to model/keypoint_classifier\\keypoint_classifier.hdf5\n",
      "Epoch 74/1000\n"
     ]
    },
    {
     "name": "stdout",
     "output_type": "stream",
     "text": [
      "35/35 [==============================] - 0s 4ms/step - loss: 0.8346 - accuracy: 0.6889 - val_loss: 0.4800 - val_accuracy: 0.8903\n",
      "\n",
      "Epoch 00074: saving model to model/keypoint_classifier\\keypoint_classifier.hdf5\n",
      "Epoch 75/1000\n",
      "35/35 [==============================] - 0s 4ms/step - loss: 0.8427 - accuracy: 0.6771 - val_loss: 0.4746 - val_accuracy: 0.8950\n",
      "\n",
      "Epoch 00075: saving model to model/keypoint_classifier\\keypoint_classifier.hdf5\n",
      "Epoch 76/1000\n",
      "35/35 [==============================] - 0s 4ms/step - loss: 0.8234 - accuracy: 0.6864 - val_loss: 0.4634 - val_accuracy: 0.8957\n",
      "\n",
      "Epoch 00076: saving model to model/keypoint_classifier\\keypoint_classifier.hdf5\n",
      "Epoch 77/1000\n",
      "35/35 [==============================] - 0s 4ms/step - loss: 0.8276 - accuracy: 0.6796 - val_loss: 0.4677 - val_accuracy: 0.8916\n",
      "\n",
      "Epoch 00077: saving model to model/keypoint_classifier\\keypoint_classifier.hdf5\n",
      "Epoch 78/1000\n",
      "35/35 [==============================] - 0s 4ms/step - loss: 0.8063 - accuracy: 0.6880 - val_loss: 0.4573 - val_accuracy: 0.8943\n",
      "\n",
      "Epoch 00078: saving model to model/keypoint_classifier\\keypoint_classifier.hdf5\n",
      "Epoch 79/1000\n",
      "35/35 [==============================] - 0s 4ms/step - loss: 0.8036 - accuracy: 0.6912 - val_loss: 0.4560 - val_accuracy: 0.8943\n",
      "\n",
      "Epoch 00079: saving model to model/keypoint_classifier\\keypoint_classifier.hdf5\n",
      "Epoch 80/1000\n",
      "35/35 [==============================] - 0s 4ms/step - loss: 0.8310 - accuracy: 0.6828 - val_loss: 0.4676 - val_accuracy: 0.9012\n",
      "\n",
      "Epoch 00080: saving model to model/keypoint_classifier\\keypoint_classifier.hdf5\n",
      "Epoch 81/1000\n",
      "35/35 [==============================] - 0s 4ms/step - loss: 0.8187 - accuracy: 0.6924 - val_loss: 0.4596 - val_accuracy: 0.8943\n",
      "\n",
      "Epoch 00081: saving model to model/keypoint_classifier\\keypoint_classifier.hdf5\n",
      "Epoch 82/1000\n",
      "35/35 [==============================] - 0s 4ms/step - loss: 0.8128 - accuracy: 0.6944 - val_loss: 0.4593 - val_accuracy: 0.8971\n",
      "\n",
      "Epoch 00082: saving model to model/keypoint_classifier\\keypoint_classifier.hdf5\n",
      "Epoch 83/1000\n",
      "35/35 [==============================] - 0s 4ms/step - loss: 0.8205 - accuracy: 0.6976 - val_loss: 0.4633 - val_accuracy: 0.8978\n",
      "\n",
      "Epoch 00083: saving model to model/keypoint_classifier\\keypoint_classifier.hdf5\n",
      "Epoch 84/1000\n",
      "35/35 [==============================] - 0s 4ms/step - loss: 0.8171 - accuracy: 0.6930 - val_loss: 0.4537 - val_accuracy: 0.9025\n",
      "\n",
      "Epoch 00084: saving model to model/keypoint_classifier\\keypoint_classifier.hdf5\n",
      "Epoch 85/1000\n",
      "35/35 [==============================] - 0s 3ms/step - loss: 0.8419 - accuracy: 0.6808 - val_loss: 0.4553 - val_accuracy: 0.9005\n",
      "\n",
      "Epoch 00085: saving model to model/keypoint_classifier\\keypoint_classifier.hdf5\n",
      "Epoch 86/1000\n",
      "35/35 [==============================] - 0s 3ms/step - loss: 0.8099 - accuracy: 0.6903 - val_loss: 0.4484 - val_accuracy: 0.9032\n",
      "\n",
      "Epoch 00086: saving model to model/keypoint_classifier\\keypoint_classifier.hdf5\n",
      "Epoch 87/1000\n",
      "35/35 [==============================] - 0s 5ms/step - loss: 0.8073 - accuracy: 0.7003 - val_loss: 0.4448 - val_accuracy: 0.9046\n",
      "\n",
      "Epoch 00087: saving model to model/keypoint_classifier\\keypoint_classifier.hdf5\n",
      "Epoch 88/1000\n",
      "35/35 [==============================] - 0s 3ms/step - loss: 0.8142 - accuracy: 0.6924 - val_loss: 0.4453 - val_accuracy: 0.8991\n",
      "\n",
      "Epoch 00088: saving model to model/keypoint_classifier\\keypoint_classifier.hdf5\n",
      "Epoch 89/1000\n",
      "35/35 [==============================] - 0s 3ms/step - loss: 0.8048 - accuracy: 0.6896 - val_loss: 0.4473 - val_accuracy: 0.8957\n",
      "\n",
      "Epoch 00089: saving model to model/keypoint_classifier\\keypoint_classifier.hdf5\n",
      "Epoch 90/1000\n",
      "35/35 [==============================] - 0s 3ms/step - loss: 0.8103 - accuracy: 0.6971 - val_loss: 0.4401 - val_accuracy: 0.8971\n",
      "\n",
      "Epoch 00090: saving model to model/keypoint_classifier\\keypoint_classifier.hdf5\n",
      "Epoch 91/1000\n",
      "35/35 [==============================] - 0s 3ms/step - loss: 0.8119 - accuracy: 0.6987 - val_loss: 0.4374 - val_accuracy: 0.9052\n",
      "\n",
      "Epoch 00091: saving model to model/keypoint_classifier\\keypoint_classifier.hdf5\n",
      "Epoch 92/1000\n",
      "35/35 [==============================] - 0s 3ms/step - loss: 0.8040 - accuracy: 0.6928 - val_loss: 0.4380 - val_accuracy: 0.9046\n",
      "\n",
      "Epoch 00092: saving model to model/keypoint_classifier\\keypoint_classifier.hdf5\n",
      "Epoch 93/1000\n",
      "35/35 [==============================] - 0s 3ms/step - loss: 0.8369 - accuracy: 0.6762 - val_loss: 0.4472 - val_accuracy: 0.8998\n",
      "\n",
      "Epoch 00093: saving model to model/keypoint_classifier\\keypoint_classifier.hdf5\n",
      "Epoch 94/1000\n",
      "35/35 [==============================] - 0s 3ms/step - loss: 0.8060 - accuracy: 0.6962 - val_loss: 0.4384 - val_accuracy: 0.9039\n",
      "\n",
      "Epoch 00094: saving model to model/keypoint_classifier\\keypoint_classifier.hdf5\n",
      "Epoch 95/1000\n",
      "35/35 [==============================] - 0s 3ms/step - loss: 0.7890 - accuracy: 0.7037 - val_loss: 0.4299 - val_accuracy: 0.9093\n",
      "\n",
      "Epoch 00095: saving model to model/keypoint_classifier\\keypoint_classifier.hdf5\n",
      "Epoch 96/1000\n",
      "35/35 [==============================] - 0s 3ms/step - loss: 0.7997 - accuracy: 0.7012 - val_loss: 0.4317 - val_accuracy: 0.9107\n",
      "\n",
      "Epoch 00096: saving model to model/keypoint_classifier\\keypoint_classifier.hdf5\n",
      "Epoch 97/1000\n",
      "35/35 [==============================] - 0s 3ms/step - loss: 0.7739 - accuracy: 0.7085 - val_loss: 0.4293 - val_accuracy: 0.9066\n",
      "\n",
      "Epoch 00097: saving model to model/keypoint_classifier\\keypoint_classifier.hdf5\n",
      "Epoch 98/1000\n",
      "35/35 [==============================] - 0s 3ms/step - loss: 0.8150 - accuracy: 0.6905 - val_loss: 0.4369 - val_accuracy: 0.9052\n",
      "\n",
      "Epoch 00098: saving model to model/keypoint_classifier\\keypoint_classifier.hdf5\n",
      "Epoch 99/1000\n",
      "35/35 [==============================] - 0s 3ms/step - loss: 0.8133 - accuracy: 0.7021 - val_loss: 0.4320 - val_accuracy: 0.9080\n",
      "\n",
      "Epoch 00099: saving model to model/keypoint_classifier\\keypoint_classifier.hdf5\n",
      "Epoch 100/1000\n",
      "35/35 [==============================] - 0s 3ms/step - loss: 0.7996 - accuracy: 0.6919 - val_loss: 0.4404 - val_accuracy: 0.9005\n",
      "\n",
      "Epoch 00100: saving model to model/keypoint_classifier\\keypoint_classifier.hdf5\n",
      "Epoch 101/1000\n",
      "35/35 [==============================] - 0s 3ms/step - loss: 0.7937 - accuracy: 0.7058 - val_loss: 0.4287 - val_accuracy: 0.9073\n",
      "\n",
      "Epoch 00101: saving model to model/keypoint_classifier\\keypoint_classifier.hdf5\n",
      "Epoch 102/1000\n",
      "35/35 [==============================] - 0s 3ms/step - loss: 0.7943 - accuracy: 0.6992 - val_loss: 0.4289 - val_accuracy: 0.9066\n",
      "\n",
      "Epoch 00102: saving model to model/keypoint_classifier\\keypoint_classifier.hdf5\n",
      "Epoch 103/1000\n",
      "35/35 [==============================] - 0s 3ms/step - loss: 0.7898 - accuracy: 0.6962 - val_loss: 0.4311 - val_accuracy: 0.9093\n",
      "\n",
      "Epoch 00103: saving model to model/keypoint_classifier\\keypoint_classifier.hdf5\n",
      "Epoch 104/1000\n",
      "35/35 [==============================] - 0s 3ms/step - loss: 0.7879 - accuracy: 0.6971 - val_loss: 0.4222 - val_accuracy: 0.9073\n",
      "\n",
      "Epoch 00104: saving model to model/keypoint_classifier\\keypoint_classifier.hdf5\n",
      "Epoch 105/1000\n",
      "35/35 [==============================] - 0s 3ms/step - loss: 0.8089 - accuracy: 0.6924 - val_loss: 0.4437 - val_accuracy: 0.9073\n",
      "\n",
      "Epoch 00105: saving model to model/keypoint_classifier\\keypoint_classifier.hdf5\n",
      "Epoch 106/1000\n",
      "35/35 [==============================] - 0s 3ms/step - loss: 0.8076 - accuracy: 0.6944 - val_loss: 0.4375 - val_accuracy: 0.9046\n",
      "\n",
      "Epoch 00106: saving model to model/keypoint_classifier\\keypoint_classifier.hdf5\n",
      "Epoch 107/1000\n",
      "35/35 [==============================] - 0s 3ms/step - loss: 0.7906 - accuracy: 0.7012 - val_loss: 0.4234 - val_accuracy: 0.9080\n",
      "\n",
      "Epoch 00107: saving model to model/keypoint_classifier\\keypoint_classifier.hdf5\n",
      "Epoch 108/1000\n",
      "35/35 [==============================] - 0s 3ms/step - loss: 0.7926 - accuracy: 0.7021 - val_loss: 0.4312 - val_accuracy: 0.9046\n",
      "\n",
      "Epoch 00108: saving model to model/keypoint_classifier\\keypoint_classifier.hdf5\n",
      "Epoch 109/1000\n",
      "35/35 [==============================] - 0s 3ms/step - loss: 0.7828 - accuracy: 0.7069 - val_loss: 0.4233 - val_accuracy: 0.9066\n",
      "\n",
      "Epoch 00109: saving model to model/keypoint_classifier\\keypoint_classifier.hdf5\n",
      "Epoch 110/1000\n",
      "35/35 [==============================] - 0s 3ms/step - loss: 0.7870 - accuracy: 0.7121 - val_loss: 0.4315 - val_accuracy: 0.9039\n"
     ]
    },
    {
     "name": "stdout",
     "output_type": "stream",
     "text": [
      "\n",
      "Epoch 00110: saving model to model/keypoint_classifier\\keypoint_classifier.hdf5\n",
      "Epoch 111/1000\n",
      "35/35 [==============================] - 0s 3ms/step - loss: 0.7816 - accuracy: 0.7071 - val_loss: 0.4156 - val_accuracy: 0.9087\n",
      "\n",
      "Epoch 00111: saving model to model/keypoint_classifier\\keypoint_classifier.hdf5\n",
      "Epoch 112/1000\n",
      "35/35 [==============================] - 0s 3ms/step - loss: 0.7909 - accuracy: 0.7046 - val_loss: 0.4212 - val_accuracy: 0.9039\n",
      "\n",
      "Epoch 00112: saving model to model/keypoint_classifier\\keypoint_classifier.hdf5\n",
      "Epoch 113/1000\n",
      "35/35 [==============================] - 0s 3ms/step - loss: 0.7839 - accuracy: 0.7112 - val_loss: 0.4196 - val_accuracy: 0.9052\n",
      "\n",
      "Epoch 00113: saving model to model/keypoint_classifier\\keypoint_classifier.hdf5\n",
      "Epoch 114/1000\n",
      "35/35 [==============================] - 0s 3ms/step - loss: 0.7862 - accuracy: 0.7065 - val_loss: 0.4272 - val_accuracy: 0.9046\n",
      "\n",
      "Epoch 00114: saving model to model/keypoint_classifier\\keypoint_classifier.hdf5\n",
      "Epoch 115/1000\n",
      "35/35 [==============================] - 0s 3ms/step - loss: 0.7868 - accuracy: 0.7049 - val_loss: 0.4278 - val_accuracy: 0.8998\n",
      "\n",
      "Epoch 00115: saving model to model/keypoint_classifier\\keypoint_classifier.hdf5\n",
      "Epoch 116/1000\n",
      "35/35 [==============================] - 0s 4ms/step - loss: 0.8084 - accuracy: 0.6928 - val_loss: 0.4222 - val_accuracy: 0.9093\n",
      "\n",
      "Epoch 00116: saving model to model/keypoint_classifier\\keypoint_classifier.hdf5\n",
      "Epoch 117/1000\n",
      "35/35 [==============================] - 0s 4ms/step - loss: 0.8110 - accuracy: 0.6965 - val_loss: 0.4401 - val_accuracy: 0.9032\n",
      "\n",
      "Epoch 00117: saving model to model/keypoint_classifier\\keypoint_classifier.hdf5\n",
      "Epoch 118/1000\n",
      "35/35 [==============================] - 0s 3ms/step - loss: 0.7837 - accuracy: 0.7046 - val_loss: 0.4223 - val_accuracy: 0.9046\n",
      "\n",
      "Epoch 00118: saving model to model/keypoint_classifier\\keypoint_classifier.hdf5\n",
      "Epoch 119/1000\n",
      "35/35 [==============================] - 0s 3ms/step - loss: 0.7803 - accuracy: 0.7044 - val_loss: 0.4204 - val_accuracy: 0.9025\n",
      "\n",
      "Epoch 00119: saving model to model/keypoint_classifier\\keypoint_classifier.hdf5\n",
      "Epoch 120/1000\n",
      "35/35 [==============================] - 0s 3ms/step - loss: 0.7737 - accuracy: 0.7119 - val_loss: 0.4110 - val_accuracy: 0.9005\n",
      "\n",
      "Epoch 00120: saving model to model/keypoint_classifier\\keypoint_classifier.hdf5\n",
      "Epoch 121/1000\n",
      "35/35 [==============================] - 0s 3ms/step - loss: 0.7532 - accuracy: 0.7217 - val_loss: 0.4143 - val_accuracy: 0.9039\n",
      "\n",
      "Epoch 00121: saving model to model/keypoint_classifier\\keypoint_classifier.hdf5\n",
      "Epoch 122/1000\n",
      "35/35 [==============================] - 0s 3ms/step - loss: 0.7960 - accuracy: 0.7055 - val_loss: 0.4213 - val_accuracy: 0.9066\n",
      "\n",
      "Epoch 00122: saving model to model/keypoint_classifier\\keypoint_classifier.hdf5\n",
      "Epoch 123/1000\n",
      "35/35 [==============================] - 0s 3ms/step - loss: 0.7864 - accuracy: 0.7165 - val_loss: 0.4233 - val_accuracy: 0.9018\n",
      "\n",
      "Epoch 00123: saving model to model/keypoint_classifier\\keypoint_classifier.hdf5\n",
      "Epoch 124/1000\n",
      "35/35 [==============================] - 0s 3ms/step - loss: 0.7651 - accuracy: 0.7160 - val_loss: 0.4208 - val_accuracy: 0.9039\n",
      "\n",
      "Epoch 00124: saving model to model/keypoint_classifier\\keypoint_classifier.hdf5\n",
      "Epoch 125/1000\n",
      "35/35 [==============================] - 0s 3ms/step - loss: 0.7880 - accuracy: 0.7192 - val_loss: 0.4125 - val_accuracy: 0.9032\n",
      "\n",
      "Epoch 00125: saving model to model/keypoint_classifier\\keypoint_classifier.hdf5\n",
      "Epoch 126/1000\n",
      "35/35 [==============================] - 0s 3ms/step - loss: 0.7758 - accuracy: 0.7062 - val_loss: 0.4065 - val_accuracy: 0.9039\n",
      "\n",
      "Epoch 00126: saving model to model/keypoint_classifier\\keypoint_classifier.hdf5\n",
      "Epoch 127/1000\n",
      "35/35 [==============================] - 0s 4ms/step - loss: 0.7697 - accuracy: 0.7137 - val_loss: 0.4120 - val_accuracy: 0.9046\n",
      "\n",
      "Epoch 00127: saving model to model/keypoint_classifier\\keypoint_classifier.hdf5\n",
      "Epoch 128/1000\n",
      "35/35 [==============================] - 0s 3ms/step - loss: 0.7659 - accuracy: 0.7106 - val_loss: 0.4103 - val_accuracy: 0.9066\n",
      "\n",
      "Epoch 00128: saving model to model/keypoint_classifier\\keypoint_classifier.hdf5\n",
      "Epoch 129/1000\n",
      "35/35 [==============================] - 0s 3ms/step - loss: 0.7927 - accuracy: 0.7051 - val_loss: 0.4215 - val_accuracy: 0.9018\n",
      "\n",
      "Epoch 00129: saving model to model/keypoint_classifier\\keypoint_classifier.hdf5\n",
      "Epoch 130/1000\n",
      "35/35 [==============================] - 0s 3ms/step - loss: 0.7676 - accuracy: 0.7158 - val_loss: 0.4209 - val_accuracy: 0.9032\n",
      "\n",
      "Epoch 00130: saving model to model/keypoint_classifier\\keypoint_classifier.hdf5\n",
      "Epoch 131/1000\n",
      "35/35 [==============================] - 0s 3ms/step - loss: 0.7671 - accuracy: 0.7112 - val_loss: 0.4242 - val_accuracy: 0.9052\n",
      "\n",
      "Epoch 00131: saving model to model/keypoint_classifier\\keypoint_classifier.hdf5\n",
      "Epoch 132/1000\n",
      "35/35 [==============================] - 0s 3ms/step - loss: 0.7741 - accuracy: 0.7094 - val_loss: 0.4051 - val_accuracy: 0.9093\n",
      "\n",
      "Epoch 00132: saving model to model/keypoint_classifier\\keypoint_classifier.hdf5\n",
      "Epoch 133/1000\n",
      "35/35 [==============================] - 0s 4ms/step - loss: 0.7541 - accuracy: 0.7226 - val_loss: 0.4059 - val_accuracy: 0.9059\n",
      "\n",
      "Epoch 00133: saving model to model/keypoint_classifier\\keypoint_classifier.hdf5\n",
      "Epoch 134/1000\n",
      "35/35 [==============================] - 0s 4ms/step - loss: 0.7636 - accuracy: 0.7160 - val_loss: 0.4169 - val_accuracy: 0.9025\n",
      "\n",
      "Epoch 00134: saving model to model/keypoint_classifier\\keypoint_classifier.hdf5\n",
      "Epoch 135/1000\n",
      "35/35 [==============================] - 0s 4ms/step - loss: 0.7673 - accuracy: 0.7065 - val_loss: 0.4127 - val_accuracy: 0.9039\n",
      "\n",
      "Epoch 00135: saving model to model/keypoint_classifier\\keypoint_classifier.hdf5\n",
      "Epoch 136/1000\n",
      "35/35 [==============================] - 0s 4ms/step - loss: 0.7864 - accuracy: 0.7078 - val_loss: 0.4175 - val_accuracy: 0.9032\n",
      "\n",
      "Epoch 00136: saving model to model/keypoint_classifier\\keypoint_classifier.hdf5\n",
      "Epoch 137/1000\n",
      "35/35 [==============================] - 0s 4ms/step - loss: 0.7651 - accuracy: 0.7153 - val_loss: 0.4098 - val_accuracy: 0.9073\n",
      "\n",
      "Epoch 00137: saving model to model/keypoint_classifier\\keypoint_classifier.hdf5\n",
      "Epoch 138/1000\n",
      "35/35 [==============================] - 0s 4ms/step - loss: 0.7681 - accuracy: 0.7144 - val_loss: 0.4187 - val_accuracy: 0.9025\n",
      "\n",
      "Epoch 00138: saving model to model/keypoint_classifier\\keypoint_classifier.hdf5\n",
      "Epoch 139/1000\n",
      "35/35 [==============================] - 0s 5ms/step - loss: 0.7811 - accuracy: 0.7078 - val_loss: 0.4207 - val_accuracy: 0.9018\n",
      "\n",
      "Epoch 00139: saving model to model/keypoint_classifier\\keypoint_classifier.hdf5\n",
      "Epoch 140/1000\n",
      "35/35 [==============================] - 0s 3ms/step - loss: 0.7760 - accuracy: 0.7106 - val_loss: 0.4104 - val_accuracy: 0.9025\n",
      "\n",
      "Epoch 00140: saving model to model/keypoint_classifier\\keypoint_classifier.hdf5\n",
      "Epoch 141/1000\n",
      "35/35 [==============================] - 0s 4ms/step - loss: 0.7693 - accuracy: 0.7194 - val_loss: 0.4104 - val_accuracy: 0.9066\n",
      "\n",
      "Epoch 00141: saving model to model/keypoint_classifier\\keypoint_classifier.hdf5\n",
      "Epoch 142/1000\n",
      "35/35 [==============================] - 0s 4ms/step - loss: 0.7726 - accuracy: 0.7112 - val_loss: 0.4109 - val_accuracy: 0.9059\n",
      "\n",
      "Epoch 00142: saving model to model/keypoint_classifier\\keypoint_classifier.hdf5\n",
      "Epoch 143/1000\n",
      "35/35 [==============================] - 0s 4ms/step - loss: 0.7706 - accuracy: 0.7149 - val_loss: 0.4129 - val_accuracy: 0.9046\n",
      "\n",
      "Epoch 00143: saving model to model/keypoint_classifier\\keypoint_classifier.hdf5\n",
      "Epoch 144/1000\n",
      "35/35 [==============================] - 0s 4ms/step - loss: 0.7455 - accuracy: 0.7190 - val_loss: 0.4147 - val_accuracy: 0.8998\n",
      "\n",
      "Epoch 00144: saving model to model/keypoint_classifier\\keypoint_classifier.hdf5\n",
      "Epoch 145/1000\n",
      "35/35 [==============================] - 0s 3ms/step - loss: 0.7626 - accuracy: 0.7112 - val_loss: 0.4055 - val_accuracy: 0.9066\n",
      "\n",
      "Epoch 00145: saving model to model/keypoint_classifier\\keypoint_classifier.hdf5\n",
      "Epoch 146/1000\n",
      "35/35 [==============================] - 0s 3ms/step - loss: 0.7557 - accuracy: 0.7221 - val_loss: 0.4090 - val_accuracy: 0.9025\n",
      "\n",
      "Epoch 00146: saving model to model/keypoint_classifier\\keypoint_classifier.hdf5\n",
      "Epoch 147/1000\n"
     ]
    },
    {
     "name": "stdout",
     "output_type": "stream",
     "text": [
      "35/35 [==============================] - 0s 4ms/step - loss: 0.7717 - accuracy: 0.7112 - val_loss: 0.4104 - val_accuracy: 0.9018\n",
      "\n",
      "Epoch 00147: saving model to model/keypoint_classifier\\keypoint_classifier.hdf5\n",
      "Epoch 148/1000\n",
      "35/35 [==============================] - 0s 4ms/step - loss: 0.7535 - accuracy: 0.7151 - val_loss: 0.4086 - val_accuracy: 0.9012\n",
      "\n",
      "Epoch 00148: saving model to model/keypoint_classifier\\keypoint_classifier.hdf5\n",
      "Epoch 149/1000\n",
      "35/35 [==============================] - 0s 3ms/step - loss: 0.7597 - accuracy: 0.7196 - val_loss: 0.4022 - val_accuracy: 0.9052\n",
      "\n",
      "Epoch 00149: saving model to model/keypoint_classifier\\keypoint_classifier.hdf5\n",
      "Epoch 150/1000\n",
      "35/35 [==============================] - 0s 3ms/step - loss: 0.7614 - accuracy: 0.7158 - val_loss: 0.4107 - val_accuracy: 0.9039\n",
      "\n",
      "Epoch 00150: saving model to model/keypoint_classifier\\keypoint_classifier.hdf5\n",
      "Epoch 151/1000\n",
      "35/35 [==============================] - 0s 3ms/step - loss: 0.7490 - accuracy: 0.7190 - val_loss: 0.4049 - val_accuracy: 0.9032\n",
      "\n",
      "Epoch 00151: saving model to model/keypoint_classifier\\keypoint_classifier.hdf5\n",
      "Epoch 152/1000\n",
      "35/35 [==============================] - 0s 3ms/step - loss: 0.7535 - accuracy: 0.7176 - val_loss: 0.4010 - val_accuracy: 0.9052\n",
      "\n",
      "Epoch 00152: saving model to model/keypoint_classifier\\keypoint_classifier.hdf5\n",
      "Epoch 153/1000\n",
      "35/35 [==============================] - 0s 4ms/step - loss: 0.7485 - accuracy: 0.7215 - val_loss: 0.3947 - val_accuracy: 0.9018\n",
      "\n",
      "Epoch 00153: saving model to model/keypoint_classifier\\keypoint_classifier.hdf5\n",
      "Epoch 154/1000\n",
      "35/35 [==============================] - 0s 4ms/step - loss: 0.7599 - accuracy: 0.7185 - val_loss: 0.4025 - val_accuracy: 0.8998\n",
      "\n",
      "Epoch 00154: saving model to model/keypoint_classifier\\keypoint_classifier.hdf5\n",
      "Epoch 155/1000\n",
      "35/35 [==============================] - 0s 4ms/step - loss: 0.7325 - accuracy: 0.7283 - val_loss: 0.3955 - val_accuracy: 0.9046\n",
      "\n",
      "Epoch 00155: saving model to model/keypoint_classifier\\keypoint_classifier.hdf5\n",
      "Epoch 156/1000\n",
      "35/35 [==============================] - 0s 3ms/step - loss: 0.7534 - accuracy: 0.7196 - val_loss: 0.4037 - val_accuracy: 0.9012\n",
      "\n",
      "Epoch 00156: saving model to model/keypoint_classifier\\keypoint_classifier.hdf5\n",
      "Epoch 157/1000\n",
      "35/35 [==============================] - 0s 4ms/step - loss: 0.7603 - accuracy: 0.7162 - val_loss: 0.4069 - val_accuracy: 0.8991\n",
      "\n",
      "Epoch 00157: saving model to model/keypoint_classifier\\keypoint_classifier.hdf5\n",
      "Epoch 158/1000\n",
      "35/35 [==============================] - 0s 3ms/step - loss: 0.7506 - accuracy: 0.7151 - val_loss: 0.4053 - val_accuracy: 0.9032\n",
      "\n",
      "Epoch 00158: saving model to model/keypoint_classifier\\keypoint_classifier.hdf5\n",
      "Epoch 159/1000\n",
      "35/35 [==============================] - 0s 3ms/step - loss: 0.7404 - accuracy: 0.7237 - val_loss: 0.3961 - val_accuracy: 0.9025\n",
      "\n",
      "Epoch 00159: saving model to model/keypoint_classifier\\keypoint_classifier.hdf5\n",
      "Epoch 160/1000\n",
      "35/35 [==============================] - 0s 3ms/step - loss: 0.7607 - accuracy: 0.7115 - val_loss: 0.4027 - val_accuracy: 0.9012\n",
      "\n",
      "Epoch 00160: saving model to model/keypoint_classifier\\keypoint_classifier.hdf5\n",
      "Epoch 161/1000\n",
      "35/35 [==============================] - 0s 3ms/step - loss: 0.7797 - accuracy: 0.7065 - val_loss: 0.4025 - val_accuracy: 0.9005\n",
      "\n",
      "Epoch 00161: saving model to model/keypoint_classifier\\keypoint_classifier.hdf5\n",
      "Epoch 162/1000\n",
      "35/35 [==============================] - 0s 3ms/step - loss: 0.7614 - accuracy: 0.7190 - val_loss: 0.3999 - val_accuracy: 0.9018\n",
      "\n",
      "Epoch 00162: saving model to model/keypoint_classifier\\keypoint_classifier.hdf5\n",
      "Epoch 163/1000\n",
      "35/35 [==============================] - 0s 4ms/step - loss: 0.7453 - accuracy: 0.7262 - val_loss: 0.3933 - val_accuracy: 0.9073\n",
      "\n",
      "Epoch 00163: saving model to model/keypoint_classifier\\keypoint_classifier.hdf5\n",
      "Epoch 164/1000\n",
      "35/35 [==============================] - 0s 4ms/step - loss: 0.7667 - accuracy: 0.7135 - val_loss: 0.4174 - val_accuracy: 0.9025\n",
      "\n",
      "Epoch 00164: saving model to model/keypoint_classifier\\keypoint_classifier.hdf5\n",
      "Epoch 165/1000\n",
      "35/35 [==============================] - 0s 3ms/step - loss: 0.7554 - accuracy: 0.7185 - val_loss: 0.4160 - val_accuracy: 0.9025\n",
      "\n",
      "Epoch 00165: saving model to model/keypoint_classifier\\keypoint_classifier.hdf5\n",
      "Epoch 166/1000\n",
      "35/35 [==============================] - 0s 3ms/step - loss: 0.7465 - accuracy: 0.7258 - val_loss: 0.4071 - val_accuracy: 0.9052\n",
      "\n",
      "Epoch 00166: saving model to model/keypoint_classifier\\keypoint_classifier.hdf5\n",
      "Epoch 167/1000\n",
      "35/35 [==============================] - 0s 3ms/step - loss: 0.7535 - accuracy: 0.7231 - val_loss: 0.4083 - val_accuracy: 0.9025\n",
      "\n",
      "Epoch 00167: saving model to model/keypoint_classifier\\keypoint_classifier.hdf5\n",
      "Epoch 168/1000\n",
      "35/35 [==============================] - 0s 3ms/step - loss: 0.7616 - accuracy: 0.7192 - val_loss: 0.4022 - val_accuracy: 0.9046\n",
      "\n",
      "Epoch 00168: saving model to model/keypoint_classifier\\keypoint_classifier.hdf5\n",
      "Epoch 169/1000\n",
      "35/35 [==============================] - 0s 3ms/step - loss: 0.7503 - accuracy: 0.7142 - val_loss: 0.4109 - val_accuracy: 0.9039\n",
      "\n",
      "Epoch 00169: saving model to model/keypoint_classifier\\keypoint_classifier.hdf5\n",
      "Epoch 170/1000\n",
      "35/35 [==============================] - 0s 3ms/step - loss: 0.7492 - accuracy: 0.7192 - val_loss: 0.4036 - val_accuracy: 0.9032\n",
      "\n",
      "Epoch 00170: saving model to model/keypoint_classifier\\keypoint_classifier.hdf5\n",
      "Epoch 171/1000\n",
      "35/35 [==============================] - 0s 3ms/step - loss: 0.7617 - accuracy: 0.7183 - val_loss: 0.4117 - val_accuracy: 0.9018\n",
      "\n",
      "Epoch 00171: saving model to model/keypoint_classifier\\keypoint_classifier.hdf5\n",
      "Epoch 172/1000\n",
      "35/35 [==============================] - 0s 4ms/step - loss: 0.7550 - accuracy: 0.7178 - val_loss: 0.3991 - val_accuracy: 0.9100\n",
      "\n",
      "Epoch 00172: saving model to model/keypoint_classifier\\keypoint_classifier.hdf5\n",
      "Epoch 173/1000\n",
      "35/35 [==============================] - 0s 4ms/step - loss: 0.7623 - accuracy: 0.7158 - val_loss: 0.4033 - val_accuracy: 0.9052\n",
      "\n",
      "Epoch 00173: saving model to model/keypoint_classifier\\keypoint_classifier.hdf5\n",
      "Epoch 174/1000\n",
      "35/35 [==============================] - 0s 3ms/step - loss: 0.7579 - accuracy: 0.7215 - val_loss: 0.4047 - val_accuracy: 0.9018\n",
      "\n",
      "Epoch 00174: saving model to model/keypoint_classifier\\keypoint_classifier.hdf5\n",
      "Epoch 175/1000\n",
      "35/35 [==============================] - 0s 3ms/step - loss: 0.7473 - accuracy: 0.7203 - val_loss: 0.4037 - val_accuracy: 0.9039\n",
      "\n",
      "Epoch 00175: saving model to model/keypoint_classifier\\keypoint_classifier.hdf5\n",
      "Epoch 176/1000\n",
      "35/35 [==============================] - 0s 3ms/step - loss: 0.7391 - accuracy: 0.7271 - val_loss: 0.4079 - val_accuracy: 0.9012\n",
      "\n",
      "Epoch 00176: saving model to model/keypoint_classifier\\keypoint_classifier.hdf5\n",
      "Epoch 177/1000\n",
      "35/35 [==============================] - 0s 3ms/step - loss: 0.7539 - accuracy: 0.7187 - val_loss: 0.4019 - val_accuracy: 0.9052\n",
      "\n",
      "Epoch 00177: saving model to model/keypoint_classifier\\keypoint_classifier.hdf5\n",
      "Epoch 178/1000\n",
      "35/35 [==============================] - 0s 3ms/step - loss: 0.7349 - accuracy: 0.7208 - val_loss: 0.3988 - val_accuracy: 0.8984\n",
      "\n",
      "Epoch 00178: saving model to model/keypoint_classifier\\keypoint_classifier.hdf5\n",
      "Epoch 179/1000\n",
      "35/35 [==============================] - 0s 4ms/step - loss: 0.7390 - accuracy: 0.7310 - val_loss: 0.4025 - val_accuracy: 0.9032\n",
      "\n",
      "Epoch 00179: saving model to model/keypoint_classifier\\keypoint_classifier.hdf5\n",
      "Epoch 180/1000\n",
      "35/35 [==============================] - 0s 4ms/step - loss: 0.7588 - accuracy: 0.7137 - val_loss: 0.4134 - val_accuracy: 0.9025\n",
      "\n",
      "Epoch 00180: saving model to model/keypoint_classifier\\keypoint_classifier.hdf5\n",
      "Epoch 181/1000\n",
      "35/35 [==============================] - 0s 4ms/step - loss: 0.7516 - accuracy: 0.7199 - val_loss: 0.4123 - val_accuracy: 0.9052\n",
      "\n",
      "Epoch 00181: saving model to model/keypoint_classifier\\keypoint_classifier.hdf5\n",
      "Epoch 182/1000\n",
      "35/35 [==============================] - 0s 4ms/step - loss: 0.7516 - accuracy: 0.7251 - val_loss: 0.4028 - val_accuracy: 0.9025\n",
      "\n",
      "Epoch 00182: saving model to model/keypoint_classifier\\keypoint_classifier.hdf5\n",
      "Epoch 183/1000\n",
      "35/35 [==============================] - 0s 4ms/step - loss: 0.7339 - accuracy: 0.7237 - val_loss: 0.3994 - val_accuracy: 0.9012\n"
     ]
    },
    {
     "name": "stdout",
     "output_type": "stream",
     "text": [
      "\n",
      "Epoch 00183: saving model to model/keypoint_classifier\\keypoint_classifier.hdf5\n",
      "Epoch 00183: early stopping\n"
     ]
    },
    {
     "data": {
      "text/plain": [
       "<keras.callbacks.History at 0x1ca6228e340>"
      ]
     },
     "execution_count": 11,
     "metadata": {},
     "output_type": "execute_result"
    }
   ],
   "source": [
    "model.fit(\n",
    "    X_train,\n",
    "    y_train,\n",
    "    epochs=1000,\n",
    "    batch_size=128,\n",
    "    validation_data=(X_test, y_test),\n",
    "    callbacks=[cp_callback, es_callback]\n",
    ")"
   ]
  },
  {
   "cell_type": "code",
   "execution_count": 12,
   "metadata": {
    "colab": {
     "base_uri": "https://localhost:8080/"
    },
    "id": "pxvb2Y299hE3",
    "outputId": "59eb3185-2e37-4b9e-bc9d-ab1b8ac29b7f"
   },
   "outputs": [
    {
     "name": "stdout",
     "output_type": "stream",
     "text": [
      "12/12 [==============================] - 0s 3ms/step - loss: 0.3994 - accuracy: 0.9012\n"
     ]
    }
   ],
   "source": [
    "# Model evaluation\n",
    "val_loss, val_acc = model.evaluate(X_test, y_test, batch_size=128)"
   ]
  },
  {
   "cell_type": "code",
   "execution_count": 13,
   "metadata": {
    "id": "RBkmDeUW9hE4"
   },
   "outputs": [],
   "source": [
    "# Loading the saved model\n",
    "model = tf.keras.models.load_model(model_save_path)"
   ]
  },
  {
   "cell_type": "code",
   "execution_count": 14,
   "metadata": {
    "colab": {
     "base_uri": "https://localhost:8080/"
    },
    "id": "tFz9Tb0I9hE4",
    "outputId": "1c3b3528-54ae-4ee2-ab04-77429211cbef"
   },
   "outputs": [
    {
     "name": "stdout",
     "output_type": "stream",
     "text": [
      "[5.9645854e-02 4.6795920e-02 8.6289865e-01 4.5993613e-05 1.1448929e-02\n",
      " 1.9164642e-02]\n",
      "2\n"
     ]
    }
   ],
   "source": [
    "# Inference test\n",
    "predict_result = model.predict(np.array([X_test[0]]))\n",
    "print(np.squeeze(predict_result))\n",
    "print(np.argmax(np.squeeze(predict_result)))"
   ]
  },
  {
   "cell_type": "markdown",
   "metadata": {
    "id": "S3U4yNWx9hE4"
   },
   "source": [
    "# Confusion matrix"
   ]
  },
  {
   "cell_type": "code",
   "execution_count": 15,
   "metadata": {
    "colab": {
     "base_uri": "https://localhost:8080/",
     "height": 582
    },
    "id": "AP1V6SCk9hE5",
    "outputId": "08e41a80-7a4a-4619-8125-ecc371368d19"
   },
   "outputs": [
    {
     "data": {
      "image/png": "[encoded data removed]",
      "text/plain": [
       "<Figure size 700x600 with 2 Axes>"
      ]
     },
     "metadata": {},
     "output_type": "display_data"
    },
    {
     "name": "stdout",
     "output_type": "stream",
     "text": [
      "Classification Report\n",
      "              precision    recall  f1-score   support\n",
      "\n",
      "           0       0.80      0.96      0.88       400\n",
      "           1       0.98      0.93      0.95       389\n",
      "           2       0.90      0.99      0.94       309\n",
      "           3       1.00      0.97      0.98        93\n",
      "           4       0.00      0.00      0.00        81\n",
      "           5       0.96      0.91      0.93       195\n",
      "\n",
      "    accuracy                           0.90      1467\n",
      "   macro avg       0.77      0.79      0.78      1467\n",
      "weighted avg       0.86      0.90      0.88      1467\n",
      "\n"
     ]
    },
    {
     "name": "stderr",
     "output_type": "stream",
     "text": [
      "C:\\ProgramData\\Anaconda3\\lib\\site-packages\\sklearn\\metrics\\_classification.py:1344: UndefinedMetricWarning: Precision and F-score are ill-defined and being set to 0.0 in labels with no predicted samples. Use `zero_division` parameter to control this behavior.\n",
      "  _warn_prf(average, modifier, msg_start, len(result))\n",
      "C:\\ProgramData\\Anaconda3\\lib\\site-packages\\sklearn\\metrics\\_classification.py:1344: UndefinedMetricWarning: Precision and F-score are ill-defined and being set to 0.0 in labels with no predicted samples. Use `zero_division` parameter to control this behavior.\n",
      "  _warn_prf(average, modifier, msg_start, len(result))\n",
      "C:\\ProgramData\\Anaconda3\\lib\\site-packages\\sklearn\\metrics\\_classification.py:1344: UndefinedMetricWarning: Precision and F-score are ill-defined and being set to 0.0 in labels with no predicted samples. Use `zero_division` parameter to control this behavior.\n",
      "  _warn_prf(average, modifier, msg_start, len(result))\n"
     ]
    }
   ],
   "source": [
    "import pandas as pd\n",
    "import seaborn as sns\n",
    "import matplotlib.pyplot as plt\n",
    "from sklearn.metrics import confusion_matrix, classification_report\n",
    "\n",
    "def print_confusion_matrix(y_true, y_pred, report=True):\n",
    "    labels = sorted(list(set(y_true)))\n",
    "    cmx_data = confusion_matrix(y_true, y_pred, labels=labels)\n",
    "    \n",
    "    df_cmx = pd.DataFrame(cmx_data, index=labels, columns=labels)\n",
    " \n",
    "    fig, ax = plt.subplots(figsize=(7, 6))\n",
    "    sns.heatmap(df_cmx, annot=True, fmt='g' ,square=False)\n",
    "    ax.set_ylim(len(set(y_true)), 0)\n",
    "    plt.show()\n",
    "    \n",
    "    if report:\n",
    "        print('Classification Report')\n",
    "        print(classification_report(y_test, y_pred))\n",
    "\n",
    "Y_pred = model.predict(X_test)\n",
    "y_pred = np.argmax(Y_pred, axis=1)\n",
    "\n",
    "print_confusion_matrix(y_test, y_pred)"
   ]
  },
  {
   "cell_type": "markdown",
   "metadata": {
    "id": "FNP6aqzc9hE5"
   },
   "source": [
    "# Convert to model for Tensorflow-Lite"
   ]
  },
  {
   "cell_type": "code",
   "execution_count": 16,
   "metadata": {
    "id": "ODjnYyld9hE6"
   },
   "outputs": [],
   "source": [
    "# Save as a model dedicated to inference\n",
    "model.save(model_save_path, include_optimizer=False)"
   ]
  },
  {
   "cell_type": "code",
   "execution_count": 17,
   "metadata": {
    "colab": {
     "base_uri": "https://localhost:8080/"
    },
    "id": "zRfuK8Y59hE6",
    "outputId": "a4ca585c-b5d5-4244-8291-8674063209bb"
   },
   "outputs": [
    {
     "name": "stdout",
     "output_type": "stream",
     "text": [
      "INFO:tensorflow:Assets written to: C:\\Users\\THOLE~1\\AppData\\Local\\Temp\\tmpq2f6tpvw\\assets\n"
     ]
    },
    {
     "data": {
      "text/plain": [
       "6432"
      ]
     },
     "execution_count": 17,
     "metadata": {},
     "output_type": "execute_result"
    }
   ],
   "source": [
    "# Transform model (quantization)\n",
    "\n",
    "converter = tf.lite.TFLiteConverter.from_keras_model(model)\n",
    "converter.optimizations = [tf.lite.Optimize.DEFAULT]\n",
    "tflite_quantized_model = converter.convert()\n",
    "\n",
    "open(tflite_save_path, 'wb').write(tflite_quantized_model)"
   ]
  },
  {
   "cell_type": "markdown",
   "metadata": {
    "id": "CHBPBXdx9hE6"
   },
   "source": [
    "# Inference test"
   ]
  },
  {
   "cell_type": "code",
   "execution_count": 18,
   "metadata": {
    "id": "mGAzLocO9hE7"
   },
   "outputs": [],
   "source": [
    "interpreter = tf.lite.Interpreter(model_path=tflite_save_path)\n",
    "interpreter.allocate_tensors()"
   ]
  },
  {
   "cell_type": "code",
   "execution_count": 19,
   "metadata": {
    "id": "oQuDK8YS9hE7"
   },
   "outputs": [],
   "source": [
    "# Get I / O tensor\n",
    "input_details = interpreter.get_input_details()\n",
    "output_details = interpreter.get_output_details()"
   ]
  },
  {
   "cell_type": "code",
   "execution_count": 20,
   "metadata": {
    "id": "2_ixAf_l9hE7"
   },
   "outputs": [],
   "source": [
    "interpreter.set_tensor(input_details[0]['index'], np.array([X_test[0]]))"
   ]
  },
  {
   "cell_type": "code",
   "execution_count": 21,
   "metadata": {
    "colab": {
     "base_uri": "https://localhost:8080/"
    },
    "id": "s4FoAnuc9hE7",
    "outputId": "91f18257-8d8b-4ef3-c558-e9b5f94fabbf",
    "scrolled": true
   },
   "outputs": [
    {
     "name": "stdout",
     "output_type": "stream",
     "text": [
      "Wall time: 0 ns\n"
     ]
    }
   ],
   "source": [
    "%%time\n",
    "# Inference implementation\n",
    "interpreter.invoke()\n",
    "tflite_results = interpreter.get_tensor(output_details[0]['index'])"
   ]
  },
  {
   "cell_type": "code",
   "execution_count": 22,
   "metadata": {
    "colab": {
     "base_uri": "https://localhost:8080/"
    },
    "id": "vONjp19J9hE8",
    "outputId": "77205e24-fd00-42c4-f7b6-e06e527c2cba"
   },
   "outputs": [
    {
     "name": "stdout",
     "output_type": "stream",
     "text": [
      "[5.9694212e-02 4.6793435e-02 8.6286545e-01 4.6060664e-05 1.1452779e-02\n",
      " 1.9148014e-02]\n",
      "2\n"
     ]
    }
   ],
   "source": [
    "print(np.squeeze(tflite_results))\n",
    "print(np.argmax(np.squeeze(tflite_results)))"
   ]
  },
  {
   "cell_type": "code",
   "execution_count": null,
   "metadata": {},
   "outputs": [],
   "source": []
  }
 ],
 "metadata": {
  "accelerator": "GPU",
  "colab": {
   "collapsed_sections": [],
   "name": "keypoint_classification_EN.ipynb",
   "provenance": [],
   "toc_visible": true
  },
  "kernelspec": {
   "display_name": "Python 3 (ipykernel)",
   "language": "python",
   "name": "python3"
  },
  "language_info": {
   "codemirror_mode": {
    "name": "ipython",
    "version": 3
   },
   "file_extension": ".py",
   "mimetype": "text/x-python",
   "name": "python",
   "nbconvert_exporter": "python",
   "pygments_lexer": "ipython3",
   "version": "3.9.13"
  }
 },
 "nbformat": 4,
 "nbformat_minor": 1
}
